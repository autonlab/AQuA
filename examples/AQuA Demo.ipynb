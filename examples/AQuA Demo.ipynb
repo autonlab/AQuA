{
 "cells": [
  {
   "attachments": {},
   "cell_type": "markdown",
   "metadata": {},
   "source": [
    "# Using AQuA for Detecting Label Errors\n",
    "<hr>\n",
    "\n",
    "Author: **Vedant Sanil** &lt;vsanil@andrew.cmu.edu&gt;\n",
    "\n",
    "<div style=\" float: right;\">\n",
    "<img align=\"right\" src=\"https://www.cs.cmu.edu/~chiragn/auton_logo.png\" width=\"25%\"/>\n",
    "</div>\n",
    "\n",
    "\n",
    "# Contents\n",
    "### 1. [Introduction](#intro) \n",
    "####    &nbsp;&nbsp;&nbsp;&nbsp; &nbsp;&nbsp;&nbsp;&nbsp; &nbsp;&nbsp;&nbsp;  1.1 [Installation](#install)\n",
    "####    &nbsp;&nbsp;&nbsp;&nbsp; &nbsp;&nbsp;&nbsp;&nbsp; &nbsp;&nbsp;&nbsp;  1.2 [Understanding how AQuA works](#understand)\n",
    "\n",
    "### 2. [Identifying Label Errors](#identify) \n",
    "####    &nbsp;&nbsp;&nbsp;&nbsp; &nbsp;&nbsp;&nbsp;&nbsp; &nbsp;&nbsp;&nbsp;  2.1 [Aqdata](#aqdata)\n",
    "####    &nbsp;&nbsp;&nbsp;&nbsp; &nbsp;&nbsp;&nbsp;&nbsp; &nbsp;&nbsp;&nbsp;  2.2 [Adding Synthetic Noise](#noise)\n",
    "####    &nbsp;&nbsp;&nbsp;&nbsp; &nbsp;&nbsp;&nbsp;&nbsp; &nbsp;&nbsp;&nbsp;  2.3 [Aqmodel](#aqmodel)\n",
    "\n",
    "### 3. [Running AQuA on Different Modalities](#run)\n",
    "####    &nbsp;&nbsp;&nbsp;&nbsp; &nbsp;&nbsp;&nbsp;&nbsp; &nbsp;&nbsp;&nbsp;  3.1 [Tabular](#tabular)\n",
    "####    &nbsp;&nbsp;&nbsp;&nbsp; &nbsp;&nbsp;&nbsp;&nbsp; &nbsp;&nbsp;&nbsp;  3.2 [Time-Series](#time-series)\n",
    "####    &nbsp;&nbsp;&nbsp;&nbsp; &nbsp;&nbsp;&nbsp;&nbsp; &nbsp;&nbsp;&nbsp;  3.2 [Image](#image)\n",
    "####    &nbsp;&nbsp;&nbsp;&nbsp; &nbsp;&nbsp;&nbsp;&nbsp; &nbsp;&nbsp;&nbsp;  3.2 [Video](#video)"
   ]
  },
  {
   "attachments": {},
   "cell_type": "markdown",
   "metadata": {},
   "source": [
    "<a id=\"intro\"></a>\n",
    "\n",
    "## 1. Introduction"
   ]
  },
  {
   "attachments": {},
   "cell_type": "markdown",
   "metadata": {},
   "source": [
    "`aqua` was designed as a benchmarking tool for label-error detection with the goal of being a first step for any classification task. `aqua` currently supports image, time-series, audio, text and tabular modalities. It currently supports all pytorch models, but we expect to extend support in the future to Keras and scikit-learn models. \n",
    "\n",
    "We currently support four label cleaning methods: `aum`, `cincer`, `simifeat` and `cleanlab`. Please refer to our [README](https://github.com/autonlab/aqua/blob/main/README.md) for an updated list of supported cleaning methods. `aqua` also provides a suite of synthetic label noises that can be added to any dataset with our custom `Aqdata` wrapper around a standard Pytorch [dataset](https://pytorch.org/tutorials/beginner/basics/data_tutorial.html). "
   ]
  },
  {
   "attachments": {},
   "cell_type": "markdown",
   "metadata": {},
   "source": [
    "<a id=\"install\"></a>\n",
    "\n",
    "### 1.1. Installation"
   ]
  },
  {
   "attachments": {},
   "cell_type": "markdown",
   "metadata": {},
   "source": [
    "Installing `aqua` is a simple two-step process. Simply do the following:\n",
    "\n",
    "```console\n",
    "foo@bar:~$ git clone https://github.com/autonlab/aqua.git\n",
    "foo@bar:~$ python setup.py install\n",
    "```\n",
    "\n",
    "\n",
    "Python 3.7+ is required to run `aqua`. You can review the full list of dependencies required to run `aqua` [here](https://github.com/autonlab/aqua/blob/main/requirements.txt). We introduce minimal dependencies with `aqua` and highly recommend running this installation in a conda/miniconda environment."
   ]
  },
  {
   "attachments": {},
   "cell_type": "markdown",
   "metadata": {},
   "source": [
    "<a id=\"understand\"></a>\n",
    "\n",
    "### 1.2 Understanding how AQuA Works"
   ]
  },
  {
   "cell_type": "code",
   "execution_count": null,
   "metadata": {},
   "outputs": [],
   "source": [
    "import sys\n",
    "sys.path.append('../')\n",
    "\n",
    "from aqua."
   ]
  },
  {
   "attachments": {},
   "cell_type": "markdown",
   "metadata": {},
   "source": [
    "### 2.1 Aqdata"
   ]
  },
  {
   "attachments": {},
   "cell_type": "markdown",
   "metadata": {},
   "source": [
    "Give a descroption of Aqdata:\n",
    "1. Description of the class Aqdata (this is a wrapper around pytorch's Dataset class, which includes capability to add noise and clean detected label issues)\n",
    "2. describe clean_data method\n",
    "3. describe add_noise"
   ]
  },
  {
   "cell_type": "code",
   "execution_count": null,
   "metadata": {},
   "outputs": [],
   "source": []
  },
  {
   "attachments": {},
   "cell_type": "markdown",
   "metadata": {},
   "source": []
  },
  {
   "attachments": {},
   "cell_type": "markdown",
   "metadata": {},
   "source": []
  }
 ],
 "metadata": {
  "kernelspec": {
   "display_name": "dl38",
   "language": "python",
   "name": "python3"
  },
  "language_info": {
   "name": "python",
   "version": "3.8.2"
  },
  "orig_nbformat": 4
 },
 "nbformat": 4,
 "nbformat_minor": 2
}
