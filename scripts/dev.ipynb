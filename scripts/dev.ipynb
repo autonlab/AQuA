{
 "cells": [
  {
   "cell_type": "code",
   "execution_count": 1,
   "metadata": {},
   "outputs": [
    {
     "name": "stderr",
     "output_type": "stream",
     "text": [
      "[nltk_data] Downloading package punkt to\n",
      "[nltk_data]     /zfsauton2/home/mgoswami/nltk_data...\n",
      "[nltk_data]   Package punkt is already up-to-date!\n"
     ]
    }
   ],
   "source": [
    "import sys\n",
    "sys.path.append('../')\n",
    "from aqua.data.preset_dataloaders import load_credit_fraud, load_adult\n",
    "from aqua.evaluation.uniform_noise import UniformNoise\n",
    "from aqua.configs import data_configs\n",
    "from sklearn.metrics import confusion_matrix\n",
    "import numpy as np"
   ]
  },
  {
   "cell_type": "code",
   "execution_count": 8,
   "metadata": {},
   "outputs": [],
   "source": [
    "n = 10000 # Number of data points\n",
    "k = 5 # Number of classes\n",
    "f = 64 # Number of features \n",
    "noise_rate = 0.2\n",
    "\n",
    "X = np.random.random((n, f))\n",
    "y = np.argmax(np.random.multinomial(n=1, size=n, pvals=k*[1/k]), axis=1)"
   ]
  },
  {
   "cell_type": "code",
   "execution_count": 5,
   "metadata": {},
   "outputs": [
    {
     "name": "stdout",
     "output_type": "stream",
     "text": [
      "Noise transition matrix:\n",
      " [[0.8 0.2]\n",
      " [0.2 0.8]]\n",
      "Estimated noise rate: 0.177\n",
      "Estimated noise transition matrix:\n",
      " [[0.81481481 0.18518519]\n",
      " [0.16837782 0.83162218]]\n"
     ]
    },
    {
     "name": "stderr",
     "output_type": "stream",
     "text": [
      "/zfsauton2/home/mgoswami/anaconda3/envs/aqua/lib/python3.9/site-packages/sklearn/preprocessing/_encoders.py:868: FutureWarning: `sparse` was renamed to `sparse_output` in version 1.2 and will be removed in 1.4. `sparse_output` is ignored unless you leave `sparse` to its default value.\n",
      "  warnings.warn(\n"
     ]
    }
   ],
   "source": [
    "# Testing script\n",
    "\n",
    "# Generate fake data\n",
    "n = 1000 # Number of data points\n",
    "k = 2 # Number of classes\n",
    "f = 25 # Number of features \n",
    "noise_rate = 0.2\n",
    "\n",
    "X = np.random.random((n, f))\n",
    "y = np.zeros(n)\n",
    "y[:n//2] = 1 \n",
    "\n",
    "# Noise injection\n",
    "noise_obj = UniformNoise(n_classes=k, noise_rate=noise_rate)\n",
    "print('Noise transition matrix:\\n', noise_obj.noise_transition_matrix)\n",
    "\n",
    "# Add noise\n",
    "noisy_X, noisy_y = noise_obj.add_noise(X=X, y=y)\n",
    "\n",
    "assert np.allclose(X, noisy_X), \"Features should not change\"\n",
    "\n",
    "estimated_noise_rate = noise_obj.estimate_noise_rate(y=y, noisy_y=noisy_y)\n",
    "print(f'Estimated noise rate: {estimated_noise_rate}')\n",
    "assert np.abs(estimated_noise_rate - noise_rate) < 0.05, \"Added and estimate noise rate should be close\"\n",
    "\n",
    "empirical_noise_transition_matrix = noise_obj.estimate_noise_transition_matrix(y=y.astype(int), noisy_y=noisy_y)\n",
    "print(f'Estimated noise transition matrix:\\n {empirical_noise_transition_matrix}')\n",
    "assert np.allclose(empirical_noise_transition_matrix , noise_obj.noise_transition_matrix, atol=0.05), \"Added and estimated noise transition matrices should be close\""
   ]
  },
  {
   "cell_type": "code",
   "execution_count": 24,
   "metadata": {},
   "outputs": [],
   "source": [
    "train_data, test_data = load_adult(cfg=data_configs['adult'])\n",
    "n_classes = data_configs['adult']['out_classes']\n",
    "\n",
    "y = np.zeros(len(train_data.labels))\n",
    "y[:len(train_data.labels)//2] = 1"
   ]
  },
  {
   "cell_type": "code",
   "execution_count": 26,
   "metadata": {},
   "outputs": [],
   "source": [
    "noise_obj = UniformNoise(n_classes=n_classes, noise_rate=0.2)"
   ]
  },
  {
   "cell_type": "code",
   "execution_count": 27,
   "metadata": {},
   "outputs": [
    {
     "data": {
      "text/plain": [
       "array([[0.8, 0.2],\n",
       "       [0.2, 0.8]])"
      ]
     },
     "execution_count": 27,
     "metadata": {},
     "output_type": "execute_result"
    }
   ],
   "source": [
    "noise_obj.noise_transition_matrix"
   ]
  },
  {
   "cell_type": "code",
   "execution_count": 28,
   "metadata": {},
   "outputs": [
    {
     "name": "stderr",
     "output_type": "stream",
     "text": [
      "/zfsauton2/home/mgoswami/anaconda3/envs/aqua/lib/python3.9/site-packages/sklearn/preprocessing/_encoders.py:868: FutureWarning: `sparse` was renamed to `sparse_output` in version 1.2 and will be removed in 1.4. `sparse_output` is ignored unless you leave `sparse` to its default value.\n",
      "  warnings.warn(\n"
     ]
    }
   ],
   "source": [
    "noisy_X, noisy_y = noise_obj.add_noise(X=train_data.data, y=y)"
   ]
  },
  {
   "cell_type": "code",
   "execution_count": 29,
   "metadata": {},
   "outputs": [
    {
     "data": {
      "text/plain": [
       "True"
      ]
     },
     "execution_count": 29,
     "metadata": {},
     "output_type": "execute_result"
    }
   ],
   "source": [
    "np.allclose(train_data.data, noisy_X)"
   ]
  },
  {
   "cell_type": "code",
   "execution_count": 30,
   "metadata": {},
   "outputs": [
    {
     "data": {
      "text/plain": [
       "array([[12948,  3333],\n",
       "       [ 3351, 12929]])"
      ]
     },
     "execution_count": 30,
     "metadata": {},
     "output_type": "execute_result"
    }
   ],
   "source": [
    "confusion_matrix(y_true=y, y_pred=noisy_y)"
   ]
  },
  {
   "cell_type": "code",
   "execution_count": 32,
   "metadata": {},
   "outputs": [
    {
     "data": {
      "text/plain": [
       "20.52762507294002"
      ]
     },
     "execution_count": 32,
     "metadata": {},
     "output_type": "execute_result"
    }
   ],
   "source": [
    "noise_obj.estimate_noise_rate(y=y, noisy_y=noisy_y)"
   ]
  },
  {
   "cell_type": "code",
   "execution_count": 33,
   "metadata": {},
   "outputs": [],
   "source": [
    "noise_or_not = (train_data.labels != noisy_y).astype(int)"
   ]
  },
  {
   "cell_type": "code",
   "execution_count": 38,
   "metadata": {},
   "outputs": [],
   "source": [
    "empirical_noise_transition_matrix = noise_obj.estimate_noise_transition_matrix(y=y.astype(int), noisy_y=noisy_y)"
   ]
  },
  {
   "cell_type": "code",
   "execution_count": 39,
   "metadata": {},
   "outputs": [
    {
     "data": {
      "text/plain": [
       "array([[0.794, 0.206],\n",
       "       [0.205, 0.795]])"
      ]
     },
     "execution_count": 39,
     "metadata": {},
     "output_type": "execute_result"
    }
   ],
   "source": [
    "np.around(empirical_noise_transition_matrix, 3)"
   ]
  }
 ],
 "metadata": {
  "kernelspec": {
   "display_name": "Python 3",
   "language": "python",
   "name": "python3"
  },
  "language_info": {
   "codemirror_mode": {
    "name": "ipython",
    "version": 3
   },
   "file_extension": ".py",
   "mimetype": "text/x-python",
   "name": "python",
   "nbconvert_exporter": "python",
   "pygments_lexer": "ipython3",
   "version": "3.9.16"
  },
  "orig_nbformat": 4
 },
 "nbformat": 4,
 "nbformat_minor": 2
}
